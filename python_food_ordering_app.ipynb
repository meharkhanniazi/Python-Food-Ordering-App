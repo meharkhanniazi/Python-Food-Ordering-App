{
 "cells": [
  {
   "cell_type": "code",
   "execution_count": 13,
   "id": "4a8b81be-ea9d-4028-abca-ac6de818cf10",
   "metadata": {},
   "outputs": [],
   "source": [
    "cust_actions = {\n",
    "    \"1\" : \"Add item to the cart\",\n",
    "    \"2\" : \"Remove item from the cart\",\n",
    "    \"3\" : \"Modify item in the cart\",\n",
    "    \"4\" : \"View Cart\",\n",
    "    \"5\" : \"Checkout\",\n",
    "    \"6\" : \"Exit from the App\"\n",
    "}\n",
    "\n",
    "rest_name = \"Yumm Foodix\"\n",
    "\n",
    "gst = 0.17"
   ]
  },
  {
   "cell_type": "code",
   "execution_count": 2,
   "id": "6c7d25f4-4927-46a3-ad14-9f5a6982b64c",
   "metadata": {},
   "outputs": [
    {
     "data": {
      "text/plain": [
       "{'1': 'Add item to the cart',\n",
       " '2': 'Remove item from the cart',\n",
       " '3': 'Modify item in the cart',\n",
       " '4': 'View Cart',\n",
       " '5': 'Checkout',\n",
       " '6': 'Exit from the App'}"
      ]
     },
     "execution_count": 2,
     "metadata": {},
     "output_type": "execute_result"
    }
   ],
   "source": [
    "cust_actions"
   ]
  },
  {
   "cell_type": "code",
   "execution_count": 3,
   "id": "a6a628ea-0e4d-4293-9e70-f63065437632",
   "metadata": {},
   "outputs": [
    {
     "data": {
      "text/plain": [
       "dict"
      ]
     },
     "execution_count": 3,
     "metadata": {},
     "output_type": "execute_result"
    }
   ],
   "source": [
    "type(cust_actions)"
   ]
  },
  {
   "cell_type": "code",
   "execution_count": 4,
   "id": "b1f692b7-c7f1-4544-b2ca-dbfbdd901a34",
   "metadata": {},
   "outputs": [
    {
     "data": {
      "text/plain": [
       "'Add item to the cart'"
      ]
     },
     "execution_count": 4,
     "metadata": {},
     "output_type": "execute_result"
    }
   ],
   "source": [
    "cust_actions['1']"
   ]
  },
  {
   "cell_type": "code",
   "execution_count": 6,
   "id": "223889be-bc66-4d31-9df1-9bfb715dfc11",
   "metadata": {},
   "outputs": [
    {
     "data": {
      "text/plain": [
       "dict_keys(['1', '2', '3', '4', '5', '6'])"
      ]
     },
     "execution_count": 6,
     "metadata": {},
     "output_type": "execute_result"
    }
   ],
   "source": [
    "cust_actions.keys()"
   ]
  },
  {
   "cell_type": "code",
   "execution_count": 9,
   "id": "f50ed37f-b757-403c-b0a4-669d3afd76aa",
   "metadata": {},
   "outputs": [
    {
     "data": {
      "text/plain": [
       "dict_values(['Add item to the cart', 'Remove item from the cart', 'Modify item in the cart', 'View Cart', 'Checkout', 'Exit from the App'])"
      ]
     },
     "execution_count": 9,
     "metadata": {},
     "output_type": "execute_result"
    }
   ],
   "source": [
    "cust_actions.values()"
   ]
  },
  {
   "cell_type": "code",
   "execution_count": 10,
   "id": "acd75f9e-32d0-40c5-be36-5734067ff21b",
   "metadata": {},
   "outputs": [
    {
     "name": "stdout",
     "output_type": "stream",
     "text": [
      "1\n",
      "2\n",
      "3\n",
      "4\n",
      "5\n",
      "6\n"
     ]
    }
   ],
   "source": [
    "for key in cust_actions:\n",
    "    print(key)"
   ]
  },
  {
   "cell_type": "code",
   "execution_count": 11,
   "id": "a8863920-2128-4350-9d97-62cf1dee803d",
   "metadata": {},
   "outputs": [
    {
     "name": "stdout",
     "output_type": "stream",
     "text": [
      "1 Add item to the cart\n",
      "2 Remove item from the cart\n",
      "3 Modify item in the cart\n",
      "4 View Cart\n",
      "5 Checkout\n",
      "6 Exit from the App\n"
     ]
    }
   ],
   "source": [
    "for key, value in cust_actions.items():\n",
    "    print(key, value)"
   ]
  },
  {
   "cell_type": "code",
   "execution_count": 14,
   "id": "9e3ec5fb-5e2b-4533-b4ff-7da700abff15",
   "metadata": {},
   "outputs": [],
   "source": [
    "menu = {\n",
    "    \"SKU1\": {'dish': 'Chicken Biryani', 'price': 1200, 'description': 'Fragrant rice cooked with chicken and spices'},\n",
    "    \"SKU2\": {'dish': 'Seekh Kebab', 'price': 800, 'description': 'Minced meat skewers seasoned with spices'},\n",
    "    \"SKU3\": {'dish': 'Nihari', 'price': 1000, 'description': 'Slow-cooked beef stew with spices'},\n",
    "    \"SKU4\": {'dish': 'Haleem', 'price': 1100, 'description': 'Lentils and meat slow-cooked to perfection'},\n",
    "    \"SKU5\": {'dish': 'Chapli Kebab', 'price': 900, 'description': 'Spiced ground meat patties'},\n",
    "    \"SKU6\": {'dish': 'Saag Paneer', 'price': 700, 'description': 'Spinach and paneer curry'},\n",
    "    \"SKU7\": {'dish': 'Aloo Keema', 'price': 800, 'description': 'Minced meat with potatoes in a flavorful curry'},\n",
    "    \"SKU8\": {'dish': 'Peshawari Naan', 'price': 400, 'description': 'Naan bread stuffed with nuts and raisins'},\n",
    "    \"SKU9\": {'dish': 'Chana Chaat', 'price': 600, 'description': 'Chickpea salad with spices and chutney'},\n",
    "    \"SKU10\": {'dish': 'Raita', 'price': 300, 'description': 'Yogurt with cucumbers and spices'},\n",
    "}"
   ]
  },
  {
   "cell_type": "code",
   "execution_count": 15,
   "id": "02d394ee-b886-4053-9d8f-c1eaa155a584",
   "metadata": {},
   "outputs": [],
   "source": [
    "cart = {}"
   ]
  },
  {
   "cell_type": "code",
   "execution_count": 172,
   "id": "3ed6e5f1-01da-4e9a-979c-f78dafb6e959",
   "metadata": {},
   "outputs": [],
   "source": [
    "def add_to_cart(sku, qty):\n",
    "    if sku in menu:\n",
    "        cart[sku] = qty\n",
    "        print(f\"{menu[sku]['dish']} in quantity {qty} is added to the cart.\")\n",
    "    else:\n",
    "        print(f\"Sorry, this item is not in the menu!\")"
   ]
  },
  {
   "cell_type": "code",
   "execution_count": 60,
   "id": "b8503793-291e-422b-8a15-ff58854d6a62",
   "metadata": {},
   "outputs": [],
   "source": [
    "cart.clear()"
   ]
  },
  {
   "cell_type": "code",
   "execution_count": 61,
   "id": "076cf83e-1aab-41e1-ba78-bef556597e5e",
   "metadata": {},
   "outputs": [
    {
     "data": {
      "text/plain": [
       "{}"
      ]
     },
     "execution_count": 61,
     "metadata": {},
     "output_type": "execute_result"
    }
   ],
   "source": [
    "cart"
   ]
  },
  {
   "cell_type": "code",
   "execution_count": 95,
   "id": "4fb1dcec-ecb8-4a62-aa9a-5fbf808ace24",
   "metadata": {},
   "outputs": [
    {
     "name": "stdout",
     "output_type": "stream",
     "text": [
      "Chicken Biryani in quantity 3 is added to the cart.\n"
     ]
    }
   ],
   "source": [
    "add_to_cart(\"SKU1\", 3)"
   ]
  },
  {
   "cell_type": "code",
   "execution_count": 65,
   "id": "faac7db8-1ad2-491c-845f-35679ccb9087",
   "metadata": {},
   "outputs": [
    {
     "data": {
      "text/plain": [
       "{'SKU1': 3}"
      ]
     },
     "execution_count": 65,
     "metadata": {},
     "output_type": "execute_result"
    }
   ],
   "source": [
    "cart"
   ]
  },
  {
   "cell_type": "code",
   "execution_count": 52,
   "id": "e81748c8-d090-4ed3-8991-26ad233dcfab",
   "metadata": {},
   "outputs": [
    {
     "ename": "TypeError",
     "evalue": "add_to_cart() missing 1 required positional argument: 'qty'",
     "output_type": "error",
     "traceback": [
      "\u001b[1;31m---------------------------------------------------------------------------\u001b[0m",
      "\u001b[1;31mTypeError\u001b[0m                                 Traceback (most recent call last)",
      "Cell \u001b[1;32mIn[52], line 1\u001b[0m\n\u001b[1;32m----> 1\u001b[0m \u001b[43madd_to_cart\u001b[49m\u001b[43m(\u001b[49m\u001b[38;5;124;43m\"\u001b[39;49m\u001b[38;5;124;43mSKU19\u001b[39;49m\u001b[38;5;124;43m\"\u001b[39;49m\u001b[43m)\u001b[49m\n",
      "\u001b[1;31mTypeError\u001b[0m: add_to_cart() missing 1 required positional argument: 'qty'"
     ]
    }
   ],
   "source": [
    "add_to_cart(\"SKU19\")"
   ]
  },
  {
   "cell_type": "code",
   "execution_count": 53,
   "id": "5fd8af99-2e8b-4a65-a532-3f316bddfad5",
   "metadata": {},
   "outputs": [
    {
     "ename": "TypeError",
     "evalue": "add_to_cart() missing 1 required positional argument: 'qty'",
     "output_type": "error",
     "traceback": [
      "\u001b[1;31m---------------------------------------------------------------------------\u001b[0m",
      "\u001b[1;31mTypeError\u001b[0m                                 Traceback (most recent call last)",
      "Cell \u001b[1;32mIn[53], line 1\u001b[0m\n\u001b[1;32m----> 1\u001b[0m \u001b[43madd_to_cart\u001b[49m\u001b[43m(\u001b[49m\u001b[38;5;124;43m\"\u001b[39;49m\u001b[38;5;124;43mSKU9\u001b[39;49m\u001b[38;5;124;43m\"\u001b[39;49m\u001b[43m)\u001b[49m\n",
      "\u001b[1;31mTypeError\u001b[0m: add_to_cart() missing 1 required positional argument: 'qty'"
     ]
    }
   ],
   "source": [
    "add_to_cart(\"SKU9\")"
   ]
  },
  {
   "cell_type": "code",
   "execution_count": 66,
   "id": "46787e7f-6625-4b49-8568-725e3f4ec95d",
   "metadata": {},
   "outputs": [
    {
     "data": {
      "text/plain": [
       "{'SKU1': 3}"
      ]
     },
     "execution_count": 66,
     "metadata": {},
     "output_type": "execute_result"
    }
   ],
   "source": [
    "cart"
   ]
  },
  {
   "cell_type": "code",
   "execution_count": 67,
   "id": "b2978ab5-7fe8-46e3-b116-fa54158c171c",
   "metadata": {},
   "outputs": [],
   "source": [
    "def remove_item(sku):\n",
    "    if sku in cart:\n",
    "        removed_item = cart.pop(sku)\n",
    "        print(f\"{menu[sku]['dish']} is removed from the cart.\")\n",
    "    else:\n",
    "        print(\"Sorry, this item is not in the cart!\")"
   ]
  },
  {
   "cell_type": "code",
   "execution_count": 68,
   "id": "a97f123d-40a1-4a7f-940f-0d6330ad453f",
   "metadata": {},
   "outputs": [
    {
     "name": "stdout",
     "output_type": "stream",
     "text": [
      "Sorry, this item is not in the cart!\n"
     ]
    }
   ],
   "source": [
    "remove_item('SKU9')"
   ]
  },
  {
   "cell_type": "code",
   "execution_count": 56,
   "id": "cc97d916-652e-4135-bd91-b7fed80cedfd",
   "metadata": {},
   "outputs": [
    {
     "data": {
      "text/plain": [
       "{'SKU1': 'Chicken Biryani'}"
      ]
     },
     "execution_count": 56,
     "metadata": {},
     "output_type": "execute_result"
    }
   ],
   "source": [
    "cart"
   ]
  },
  {
   "cell_type": "code",
   "execution_count": 57,
   "id": "5719cd9e-798f-411d-8d56-9a4bc44d6aa3",
   "metadata": {},
   "outputs": [
    {
     "name": "stdout",
     "output_type": "stream",
     "text": [
      "Sorry, this item is not in the cart!\n"
     ]
    }
   ],
   "source": [
    "remove_item('SKU11')"
   ]
  },
  {
   "cell_type": "code",
   "execution_count": null,
   "id": "64f14776-923a-4039-a38b-346fd751a747",
   "metadata": {},
   "outputs": [],
   "source": []
  },
  {
   "cell_type": "code",
   "execution_count": 185,
   "id": "e8f02387-646c-46e3-abd5-5e865e21b716",
   "metadata": {},
   "outputs": [],
   "source": [
    "def modify_cart(sku, qty):\n",
    "    if sku in cart:\n",
    "        qty = int(qty)\n",
    "        if qty > 0:\n",
    "            cart[sku] += qty\n",
    "            print(f\"{menu[sku]['dish']} in quantity {qty} is added to the cart.\")\n",
    "        else:\n",
    "            remove_item(sku)\n",
    "            \n",
    "    else:\n",
    "        print(\"Sorry, this item is not in the cart!\")"
   ]
  },
  {
   "cell_type": "code",
   "execution_count": 75,
   "id": "b721a479-fc96-45de-8693-1ae67a9f20b7",
   "metadata": {},
   "outputs": [
    {
     "data": {
      "text/plain": [
       "{'SKU1': 7}"
      ]
     },
     "execution_count": 75,
     "metadata": {},
     "output_type": "execute_result"
    }
   ],
   "source": [
    "cart"
   ]
  },
  {
   "cell_type": "code",
   "execution_count": 78,
   "id": "f0d3d7fc-7066-4187-9bd8-e8af3ad6da1c",
   "metadata": {},
   "outputs": [
    {
     "name": "stdout",
     "output_type": "stream",
     "text": [
      "Chicken Biryani is removed from the cart.\n"
     ]
    }
   ],
   "source": [
    "modify_cart('SKU1', 0)"
   ]
  },
  {
   "cell_type": "code",
   "execution_count": 79,
   "id": "815b8271-446a-440c-84ae-9edc6a8d7bcb",
   "metadata": {},
   "outputs": [
    {
     "data": {
      "text/plain": [
       "{}"
      ]
     },
     "execution_count": 79,
     "metadata": {},
     "output_type": "execute_result"
    }
   ],
   "source": [
    "cart"
   ]
  },
  {
   "cell_type": "code",
   "execution_count": 177,
   "id": "d0f15846-73f5-4c00-a0f4-33e2ff48db1b",
   "metadata": {},
   "outputs": [],
   "source": [
    "def display_menu():\n",
    "    print()\n",
    "    for sku in menu:\n",
    "        if \" \" in menu[sku]['dish']:\n",
    "            print(f\"({sku[3:]})\\t{menu[sku]['dish']}\\t {menu[sku]['price']}\")\n",
    "        else:\n",
    "            print(f\"({sku[3:]})\\t{menu[sku]['dish']}\\t\\t {menu[sku]['price']}\")\n",
    "    print()"
   ]
  },
  {
   "cell_type": "code",
   "execution_count": 110,
   "id": "5064e3a4-e318-4c2d-a566-3905e058e104",
   "metadata": {},
   "outputs": [
    {
     "name": "stdout",
     "output_type": "stream",
     "text": [
      "\n",
      "(1)\tChicken Biryani\t 1200\n",
      "(2)\tSeekh Kebab\t 800\n",
      "(3)\tNihari\t\t 1000\n",
      "(4)\tHaleem\t\t 1100\n",
      "(5)\tChapli Kebab\t 900\n",
      "(6)\tSaag Paneer\t 700\n",
      "(7)\tAloo Keema\t 800\n",
      "(8)\tPeshawari Naan\t 400\n",
      "(9)\tChana Chaat\t 600\n",
      "(10)\tRaita\t\t 300\n",
      "\n"
     ]
    }
   ],
   "source": [
    "display_menu()"
   ]
  },
  {
   "cell_type": "code",
   "execution_count": 111,
   "id": "3ce7b8bf-d2ed-4eda-9cbf-4c7e3e372a98",
   "metadata": {},
   "outputs": [
    {
     "data": {
      "text/plain": [
       "{'SKU1': 3}"
      ]
     },
     "execution_count": 111,
     "metadata": {},
     "output_type": "execute_result"
    }
   ],
   "source": [
    "cart"
   ]
  },
  {
   "cell_type": "code",
   "execution_count": 130,
   "id": "0b931c1c-3031-409d-96bd-410421d59d1f",
   "metadata": {},
   "outputs": [],
   "source": [
    "def view_cart():\n",
    "    sub_total = 0\n",
    "    total = 0\n",
    "    for sku in cart:\n",
    "        sub_total += menu[sku]['price'] * cart[sku]\n",
    "        print(f\"{menu[sku]['dish']} * {cart[sku]}\\t= {menu[sku]['price'] * cart[sku]}\")\n",
    "    print(\"--------------------------------\")\n",
    "    print(f\"Subtotal\\t\\t= {sub_total}\")"
   ]
  },
  {
   "cell_type": "code",
   "execution_count": 131,
   "id": "99f32bda-91df-49d4-8b70-c00d14dca5e0",
   "metadata": {},
   "outputs": [
    {
     "name": "stdout",
     "output_type": "stream",
     "text": [
      "Chicken Biryani * 3\t= 3600\n",
      "Chapli Kebab * 8\t= 7200\n",
      "--------------------------------\n",
      "Subtotal\t\t= 10800\n"
     ]
    }
   ],
   "source": [
    "view_cart()"
   ]
  },
  {
   "cell_type": "code",
   "execution_count": 132,
   "id": "6da20966-b144-4fc4-9afe-7ffafe3a51ec",
   "metadata": {},
   "outputs": [
    {
     "name": "stdout",
     "output_type": "stream",
     "text": [
      "Chapli Kebab in quantity 8 is added to the cart.\n"
     ]
    }
   ],
   "source": [
    "add_to_cart(\"SKU5\", 8)"
   ]
  },
  {
   "cell_type": "code",
   "execution_count": 133,
   "id": "fbf298a5-be1e-49b9-bea8-2a9e623ae879",
   "metadata": {},
   "outputs": [
    {
     "name": "stdout",
     "output_type": "stream",
     "text": [
      "Chicken Biryani * 3\t= 3600\n",
      "Chapli Kebab * 8\t= 7200\n",
      "--------------------------------\n",
      "Subtotal\t\t= 10800\n"
     ]
    }
   ],
   "source": [
    "view_cart()"
   ]
  },
  {
   "cell_type": "code",
   "execution_count": 148,
   "id": "ff80ee51-70ab-43f1-8958-0ec21db31ad6",
   "metadata": {},
   "outputs": [],
   "source": [
    "def checkout():\n",
    "    sub_total = 0\n",
    "    total = 0\n",
    "    print()\n",
    "    for sku in cart:\n",
    "        sub_total += menu[sku]['price'] * cart[sku]\n",
    "        print(f\"{menu[sku]['dish']} * {cart[sku]}\\t= {menu[sku]['price'] * cart[sku]}\")\n",
    "    print(\"--------------------------------\")\n",
    "    print(f\"Subtotal\\t\\t= {sub_total}\")\n",
    "    print(f\"GST\\t\\t\\t= {gst}%\")\n",
    "    total =  sub_total + sub_total * gst\n",
    "    print(\"--------------------------------\")\n",
    "    print(f\"Total\\t\\t\\t={total: .2f}\")\n",
    "    print(\"\\nThanks for ordering. Good Bye!\\n\")"
   ]
  },
  {
   "cell_type": "code",
   "execution_count": 149,
   "id": "58afea35-aa2d-4516-b5b5-13ce026de995",
   "metadata": {},
   "outputs": [
    {
     "name": "stdout",
     "output_type": "stream",
     "text": [
      "\n",
      "Chicken Biryani * 3\t= 3600\n",
      "Chapli Kebab * 8\t= 7200\n",
      "--------------------------------\n",
      "Subtotal\t\t= 10800\n",
      "GST\t\t\t= 0.17%\n",
      "--------------------------------\n",
      "Total\t\t\t= 12636.00\n",
      "\n",
      "Thanks for ordering. Good Bye!\n",
      "\n"
     ]
    }
   ],
   "source": [
    "checkout()"
   ]
  },
  {
   "cell_type": "code",
   "execution_count": 159,
   "id": "380a247f-29e6-4c4a-b127-03058c98214f",
   "metadata": {},
   "outputs": [],
   "source": [
    "def order():\n",
    "    print(\"\\n*****  Welcome to Yumm Foodix  *****\")\n",
    "    ordering = True\n",
    "    while ordering:\n",
    "        display_menu()\n",
    "        user_res = input(\"Enter your selected menu: \")\n",
    "        if user_res == '1':\n",
    "            "
   ]
  },
  {
   "cell_type": "code",
   "execution_count": 160,
   "id": "57fa57e2-a78b-4a3f-9437-9f8e7e06c511",
   "metadata": {},
   "outputs": [
    {
     "name": "stdout",
     "output_type": "stream",
     "text": [
      "\n",
      "*****  Welcome to Yumm Foodix  *****\n",
      "\n",
      "Please select what you want to order: \n",
      "\n",
      "(1)\tChicken Biryani\t 1200\n",
      "(2)\tSeekh Kebab\t 800\n",
      "(3)\tNihari\t\t 1000\n",
      "(4)\tHaleem\t\t 1100\n",
      "(5)\tChapli Kebab\t 900\n",
      "(6)\tSaag Paneer\t 700\n",
      "(7)\tAloo Keema\t 800\n",
      "(8)\tPeshawari Naan\t 400\n",
      "(9)\tChana Chaat\t 600\n",
      "(10)\tRaita\t\t 300\n",
      "\n"
     ]
    },
    {
     "name": "stdin",
     "output_type": "stream",
     "text": [
      "Enter your selected menu:  1\n"
     ]
    }
   ],
   "source": [
    "order()"
   ]
  },
  {
   "cell_type": "code",
   "execution_count": 161,
   "id": "eec32be2-9574-4fe4-8b78-e57d6635ed03",
   "metadata": {},
   "outputs": [],
   "source": [
    "def display_actions():\n",
    "    print(\"\\nPlease select what you want to do: \\n\")\n",
    "    for action in cust_actions:\n",
    "        print(f\"({action})\\t{cust_actions[action]}\")\n",
    "    print()"
   ]
  },
  {
   "cell_type": "code",
   "execution_count": 162,
   "id": "fd15c5ec-7c3b-4cf4-ae1a-788d8a7f2323",
   "metadata": {},
   "outputs": [
    {
     "name": "stdout",
     "output_type": "stream",
     "text": [
      "\n",
      "Please select what you want to do: \n",
      "\n",
      "(1)\tAdd item to the cart\n",
      "(2)\tRemove item from the cart\n",
      "(3)\tModify item in the cart\n",
      "(4)\tView Cart\n",
      "(5)\tCheckout\n",
      "(6)\tExit from the App\n",
      "\n"
     ]
    }
   ],
   "source": [
    "display_actions()"
   ]
  },
  {
   "cell_type": "code",
   "execution_count": 189,
   "id": "e749a15d-b3e3-4745-a560-b1ccf31b6102",
   "metadata": {},
   "outputs": [],
   "source": [
    "def order():\n",
    "    print(\"\\n*****  Welcome to Yumm Foodix  *****\")\n",
    "    ordering = True\n",
    "    while ordering:\n",
    "        display_actions()\n",
    "        user_res = input(\"Enter your selected action: \")\n",
    "        if user_res == '1':\n",
    "            print(\"\\nPlease select what you want to order: \\n\")\n",
    "            display_menu()\n",
    "            sku = input(\"Enter your selected menu: \")\n",
    "            qty = input(\"Enter the quantity please: \")\n",
    "            sku = 'SKU' + sku\n",
    "            add_to_cart(sku, qty)\n",
    "        if user_res == '2':\n",
    "            print(\"\\nPlease select what you want to remove from the cart: \\n\")\n",
    "            display_menu()\n",
    "            sku = input(\"Enter your selected menu: \")\n",
    "            sku = 'SKU' + sku\n",
    "            remove_item(sku)\n",
    "        if user_res == '3':\n",
    "            print(\"\\nPlease select what you want to modify in the cart: \\n\")\n",
    "            display_menu()\n",
    "            sku = input(\"Enter your selected menu: \")\n",
    "            qty = input(\"Enter the quantity please: \")\n",
    "            sku = 'SKU' + sku\n",
    "            modify_cart(sku, qty)\n",
    "        if user_res == '4':\n",
    "            \n",
    "            break"
   ]
  },
  {
   "cell_type": "code",
   "execution_count": 190,
   "id": "7a5a13b6-d491-4972-8bf3-6ec219330b0b",
   "metadata": {},
   "outputs": [
    {
     "name": "stdout",
     "output_type": "stream",
     "text": [
      "\n",
      "*****  Welcome to Yumm Foodix  *****\n",
      "\n",
      "Please select what you want to do: \n",
      "\n",
      "(1)\tAdd item to the cart\n",
      "(2)\tRemove item from the cart\n",
      "(3)\tModify item in the cart\n",
      "(4)\tView Cart\n",
      "(5)\tCheckout\n",
      "(6)\tExit from the App\n",
      "\n"
     ]
    },
    {
     "name": "stdin",
     "output_type": "stream",
     "text": [
      "Enter your selected action:  2\n"
     ]
    },
    {
     "name": "stdout",
     "output_type": "stream",
     "text": [
      "\n",
      "Please select what you want to remove from the cart: \n",
      "\n",
      "\n",
      "(1)\tChicken Biryani\t 1200\n",
      "(2)\tSeekh Kebab\t 800\n",
      "(3)\tNihari\t\t 1000\n",
      "(4)\tHaleem\t\t 1100\n",
      "(5)\tChapli Kebab\t 900\n",
      "(6)\tSaag Paneer\t 700\n",
      "(7)\tAloo Keema\t 800\n",
      "(8)\tPeshawari Naan\t 400\n",
      "(9)\tChana Chaat\t 600\n",
      "(10)\tRaita\t\t 300\n",
      "\n"
     ]
    },
    {
     "name": "stdin",
     "output_type": "stream",
     "text": [
      "Enter your selected menu:  3\n"
     ]
    },
    {
     "name": "stdout",
     "output_type": "stream",
     "text": [
      "Nihari is removed from the cart.\n",
      "\n",
      "Please select what you want to do: \n",
      "\n",
      "(1)\tAdd item to the cart\n",
      "(2)\tRemove item from the cart\n",
      "(3)\tModify item in the cart\n",
      "(4)\tView Cart\n",
      "(5)\tCheckout\n",
      "(6)\tExit from the App\n",
      "\n"
     ]
    },
    {
     "name": "stdin",
     "output_type": "stream",
     "text": [
      "Enter your selected action:  3\n"
     ]
    },
    {
     "name": "stdout",
     "output_type": "stream",
     "text": [
      "\n",
      "Please select what you want to modify in the cart: \n",
      "\n",
      "\n",
      "(1)\tChicken Biryani\t 1200\n",
      "(2)\tSeekh Kebab\t 800\n",
      "(3)\tNihari\t\t 1000\n",
      "(4)\tHaleem\t\t 1100\n",
      "(5)\tChapli Kebab\t 900\n",
      "(6)\tSaag Paneer\t 700\n",
      "(7)\tAloo Keema\t 800\n",
      "(8)\tPeshawari Naan\t 400\n",
      "(9)\tChana Chaat\t 600\n",
      "(10)\tRaita\t\t 300\n",
      "\n"
     ]
    },
    {
     "name": "stdin",
     "output_type": "stream",
     "text": [
      "Enter your selected menu:  5\n",
      "Enter the quantity please:  4\n"
     ]
    },
    {
     "name": "stdout",
     "output_type": "stream",
     "text": [
      "Chapli Kebab in quantity 4 is added to the cart.\n"
     ]
    }
   ],
   "source": [
    "order()"
   ]
  },
  {
   "cell_type": "code",
   "execution_count": 191,
   "id": "3d7e0574-f707-45ba-bf1c-283adcb5a4e7",
   "metadata": {},
   "outputs": [
    {
     "data": {
      "text/plain": [
       "{'SKU5': 12}"
      ]
     },
     "execution_count": 191,
     "metadata": {},
     "output_type": "execute_result"
    }
   ],
   "source": [
    "cart"
   ]
  },
  {
   "cell_type": "code",
   "execution_count": null,
   "id": "49f1e316-e88e-4eff-9621-08f603391cec",
   "metadata": {},
   "outputs": [],
   "source": []
  }
 ],
 "metadata": {
  "kernelspec": {
   "display_name": "Python 3 (ipykernel)",
   "language": "python",
   "name": "python3"
  },
  "language_info": {
   "codemirror_mode": {
    "name": "ipython",
    "version": 3
   },
   "file_extension": ".py",
   "mimetype": "text/x-python",
   "name": "python",
   "nbconvert_exporter": "python",
   "pygments_lexer": "ipython3",
   "version": "3.12.1"
  }
 },
 "nbformat": 4,
 "nbformat_minor": 5
}
